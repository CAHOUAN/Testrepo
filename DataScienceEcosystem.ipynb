{
 "cells": [
  {
   "cell_type": "markdown",
   "id": "70dedccd",
   "metadata": {},
   "source": [
    "getwd()"
   ]
  },
  {
   "cell_type": "markdown",
   "id": "4934ba1c",
   "metadata": {},
   "source": [
    "# DataScienceEcosystem\n"
   ]
  },
  {
   "cell_type": "markdown",
   "id": "f50027d5",
   "metadata": {},
   "source": [
    "## Introduction\n",
    "In this notebook, Data Science Tools and Ecosystem are summarized.\n",
    "\n"
   ]
  },
  {
   "cell_type": "markdown",
   "id": "3bef8900",
   "metadata": {},
   "source": [
    "Some of the popular languages that Data Scientists use are:\n",
    "- Python\n",
    "- R\n",
    "- Java\n",
    "- Julia\n"
   ]
  },
  {
   "cell_type": "markdown",
   "id": "9c505b2e",
   "metadata": {},
   "source": [
    "Some of the commonly used libraries used by Data Scientists include:\n",
    "- Pandas\n",
    "- Numpy\n",
    "- TensorFlow\n",
    "- ggplot2"
   ]
  },
  {
   "cell_type": "markdown",
   "id": "c9c6840e",
   "metadata": {},
   "source": [
    "|Column1|\n",
    "|------------------|\n",
    "|Data Science Tools|\n",
    "\n",
    "### Below are a few examples of evaluating arithmetic expressions in Python."
   ]
  },
  {
   "cell_type": "code",
   "execution_count": 3,
   "id": "29240ed5",
   "metadata": {},
   "outputs": [
    {
     "data": {
      "text/plain": [
       "17"
      ]
     },
     "execution_count": 3,
     "metadata": {},
     "output_type": "execute_result"
    }
   ],
   "source": [
    "#### This a simple arithmetic expression to mutiply then add integers\n",
    "(3*4)+5"
   ]
  },
  {
   "cell_type": "code",
   "execution_count": 4,
   "id": "5c3c1cc2",
   "metadata": {},
   "outputs": [
    {
     "name": "stdout",
     "output_type": "stream",
     "text": [
      "3\n"
     ]
    }
   ],
   "source": [
    "#### This will convert 200 minutes to hours by diving by 60.\n",
    "total_minutes = 200\n",
    "hours = total_minutes // 60\n",
    "print(hours)\n"
   ]
  },
  {
   "cell_type": "markdown",
   "id": "e3ffefb1",
   "metadata": {},
   "source": [
    "## **Objectives** :\n",
    "* Python:It is used for programming \n",
    "* R:It is used for programming\n",
    "* Java:It is general purpose object oriented programming language\n"
   ]
  },
  {
   "cell_type": "code",
   "execution_count": null,
   "id": "61928a73",
   "metadata": {},
   "outputs": [],
   "source": [
    "## Author\n",
    "Claude Ahouangninou"
   ]
  }
 ],
 "metadata": {
  "kernelspec": {
   "display_name": "Python 3 (ipykernel)",
   "language": "python",
   "name": "python3"
  },
  "language_info": {
   "codemirror_mode": {
    "name": "ipython",
    "version": 3
   },
   "file_extension": ".py",
   "mimetype": "text/x-python",
   "name": "python",
   "nbconvert_exporter": "python",
   "pygments_lexer": "ipython3",
   "version": "3.10.9"
  }
 },
 "nbformat": 4,
 "nbformat_minor": 5
}
